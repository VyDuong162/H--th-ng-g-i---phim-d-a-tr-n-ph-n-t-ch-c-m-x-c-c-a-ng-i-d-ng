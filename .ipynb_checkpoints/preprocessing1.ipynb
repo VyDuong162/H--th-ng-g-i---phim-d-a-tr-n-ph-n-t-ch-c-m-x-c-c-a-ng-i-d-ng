{
  "cells": [
    {
      "cell_type": "markdown",
      "metadata": {
        "id": "view-in-github",
        "colab_type": "text"
      },
      "source": [
        "<a href=\"https://colab.research.google.com/github/VyDuong162/Movie-recommendation-system-base-on-sentiment-analysis/blob/main/.ipynb_checkpoints/preprocessing1.ipynb\" target=\"_parent\"><img src=\"https://colab.research.google.com/assets/colab-badge.svg\" alt=\"Open In Colab\"/></a>"
      ]
    },
    {
      "cell_type": "code",
      "execution_count": null,
      "metadata": {
        "id": "K6J1IoKWWJTY"
      },
      "outputs": [],
      "source": [
        "import numpy as np\n",
        "import pandas as pd\n",
        "import matplotlib.pyplot as plt"
      ]
    },
    {
      "cell_type": "code",
      "source": [
        "from google.colab import drive\n",
        "drive.mount('/content/drive')"
      ],
      "metadata": {
        "colab": {
          "base_uri": "https://localhost:8080/"
        },
        "id": "6KDqpK43Wj2G",
        "outputId": "2125529a-438e-46c1-dc2a-5aee125e2068"
      },
      "execution_count": null,
      "outputs": [
        {
          "output_type": "stream",
          "name": "stdout",
          "text": [
            "Drive already mounted at /content/drive; to attempt to forcibly remount, call drive.mount(\"/content/drive\", force_remount=True).\n"
          ]
        }
      ]
    },
    {
      "cell_type": "code",
      "source": [
        "path_dir ='/content/drive/MyDrive/LV/RecommenderSYS/datasets'"
      ],
      "metadata": {
        "id": "6ynqcKKjW2BS"
      },
      "execution_count": null,
      "outputs": []
    },
    {
      "cell_type": "markdown",
      "metadata": {
        "id": "o9rjuGs2WJTe"
      },
      "source": [
        "## Task 1: Reading and Inspection\n",
        "\n",
        "-  ### Subtask 1.1: Import and read\n",
        "\n",
        "Import and read the movie database. Store it in a variable called `data`."
      ]
    },
    {
      "cell_type": "code",
      "execution_count": null,
      "metadata": {
        "id": "8GS5SnfTWJTg"
      },
      "outputs": [],
      "source": [
        "# read movie_metadata.csv\n",
        "data = pd.read_csv(path_dir+'/'+'movie_metadata.csv')"
      ]
    },
    {
      "cell_type": "code",
      "execution_count": null,
      "metadata": {
        "colab": {
          "base_uri": "https://localhost:8080/",
          "height": 560
        },
        "id": "lHatNqa_WJTi",
        "outputId": "370f4cb3-3538-43e7-d4d5-e1099599ce7f"
      },
      "outputs": [
        {
          "output_type": "execute_result",
          "data": {
            "text/html": [
              "\n",
              "  <div id=\"df-644e2d04-9b95-4e28-bee2-2c0052faf286\">\n",
              "    <div class=\"colab-df-container\">\n",
              "      <div>\n",
              "<style scoped>\n",
              "    .dataframe tbody tr th:only-of-type {\n",
              "        vertical-align: middle;\n",
              "    }\n",
              "\n",
              "    .dataframe tbody tr th {\n",
              "        vertical-align: top;\n",
              "    }\n",
              "\n",
              "    .dataframe thead th {\n",
              "        text-align: right;\n",
              "    }\n",
              "</style>\n",
              "<table border=\"1\" class=\"dataframe\">\n",
              "  <thead>\n",
              "    <tr style=\"text-align: right;\">\n",
              "      <th></th>\n",
              "      <th>color</th>\n",
              "      <th>director_name</th>\n",
              "      <th>num_critic_for_reviews</th>\n",
              "      <th>duration</th>\n",
              "      <th>director_facebook_likes</th>\n",
              "      <th>actor_3_facebook_likes</th>\n",
              "      <th>actor_2_name</th>\n",
              "      <th>actor_1_facebook_likes</th>\n",
              "      <th>gross</th>\n",
              "      <th>genres</th>\n",
              "      <th>...</th>\n",
              "      <th>num_user_for_reviews</th>\n",
              "      <th>language</th>\n",
              "      <th>country</th>\n",
              "      <th>content_rating</th>\n",
              "      <th>budget</th>\n",
              "      <th>title_year</th>\n",
              "      <th>actor_2_facebook_likes</th>\n",
              "      <th>imdb_score</th>\n",
              "      <th>aspect_ratio</th>\n",
              "      <th>movie_facebook_likes</th>\n",
              "    </tr>\n",
              "  </thead>\n",
              "  <tbody>\n",
              "    <tr>\n",
              "      <th>0</th>\n",
              "      <td>Color</td>\n",
              "      <td>James Cameron</td>\n",
              "      <td>723.0</td>\n",
              "      <td>178.0</td>\n",
              "      <td>0.0</td>\n",
              "      <td>855.0</td>\n",
              "      <td>Joel David Moore</td>\n",
              "      <td>1000.0</td>\n",
              "      <td>760505847.0</td>\n",
              "      <td>Action|Adventure|Fantasy|Sci-Fi</td>\n",
              "      <td>...</td>\n",
              "      <td>3054.0</td>\n",
              "      <td>English</td>\n",
              "      <td>USA</td>\n",
              "      <td>PG-13</td>\n",
              "      <td>237000000.0</td>\n",
              "      <td>2009.0</td>\n",
              "      <td>936.0</td>\n",
              "      <td>7.9</td>\n",
              "      <td>1.78</td>\n",
              "      <td>33000</td>\n",
              "    </tr>\n",
              "    <tr>\n",
              "      <th>1</th>\n",
              "      <td>Color</td>\n",
              "      <td>Gore Verbinski</td>\n",
              "      <td>302.0</td>\n",
              "      <td>169.0</td>\n",
              "      <td>563.0</td>\n",
              "      <td>1000.0</td>\n",
              "      <td>Orlando Bloom</td>\n",
              "      <td>40000.0</td>\n",
              "      <td>309404152.0</td>\n",
              "      <td>Action|Adventure|Fantasy</td>\n",
              "      <td>...</td>\n",
              "      <td>1238.0</td>\n",
              "      <td>English</td>\n",
              "      <td>USA</td>\n",
              "      <td>PG-13</td>\n",
              "      <td>300000000.0</td>\n",
              "      <td>2007.0</td>\n",
              "      <td>5000.0</td>\n",
              "      <td>7.1</td>\n",
              "      <td>2.35</td>\n",
              "      <td>0</td>\n",
              "    </tr>\n",
              "    <tr>\n",
              "      <th>2</th>\n",
              "      <td>Color</td>\n",
              "      <td>Sam Mendes</td>\n",
              "      <td>602.0</td>\n",
              "      <td>148.0</td>\n",
              "      <td>0.0</td>\n",
              "      <td>161.0</td>\n",
              "      <td>Rory Kinnear</td>\n",
              "      <td>11000.0</td>\n",
              "      <td>200074175.0</td>\n",
              "      <td>Action|Adventure|Thriller</td>\n",
              "      <td>...</td>\n",
              "      <td>994.0</td>\n",
              "      <td>English</td>\n",
              "      <td>UK</td>\n",
              "      <td>PG-13</td>\n",
              "      <td>245000000.0</td>\n",
              "      <td>2015.0</td>\n",
              "      <td>393.0</td>\n",
              "      <td>6.8</td>\n",
              "      <td>2.35</td>\n",
              "      <td>85000</td>\n",
              "    </tr>\n",
              "    <tr>\n",
              "      <th>3</th>\n",
              "      <td>Color</td>\n",
              "      <td>Christopher Nolan</td>\n",
              "      <td>813.0</td>\n",
              "      <td>164.0</td>\n",
              "      <td>22000.0</td>\n",
              "      <td>23000.0</td>\n",
              "      <td>Christian Bale</td>\n",
              "      <td>27000.0</td>\n",
              "      <td>448130642.0</td>\n",
              "      <td>Action|Thriller</td>\n",
              "      <td>...</td>\n",
              "      <td>2701.0</td>\n",
              "      <td>English</td>\n",
              "      <td>USA</td>\n",
              "      <td>PG-13</td>\n",
              "      <td>250000000.0</td>\n",
              "      <td>2012.0</td>\n",
              "      <td>23000.0</td>\n",
              "      <td>8.5</td>\n",
              "      <td>2.35</td>\n",
              "      <td>164000</td>\n",
              "    </tr>\n",
              "    <tr>\n",
              "      <th>4</th>\n",
              "      <td>NaN</td>\n",
              "      <td>Doug Walker</td>\n",
              "      <td>NaN</td>\n",
              "      <td>NaN</td>\n",
              "      <td>131.0</td>\n",
              "      <td>NaN</td>\n",
              "      <td>Rob Walker</td>\n",
              "      <td>131.0</td>\n",
              "      <td>NaN</td>\n",
              "      <td>Documentary</td>\n",
              "      <td>...</td>\n",
              "      <td>NaN</td>\n",
              "      <td>NaN</td>\n",
              "      <td>NaN</td>\n",
              "      <td>NaN</td>\n",
              "      <td>NaN</td>\n",
              "      <td>NaN</td>\n",
              "      <td>12.0</td>\n",
              "      <td>7.1</td>\n",
              "      <td>NaN</td>\n",
              "      <td>0</td>\n",
              "    </tr>\n",
              "    <tr>\n",
              "      <th>5</th>\n",
              "      <td>Color</td>\n",
              "      <td>Andrew Stanton</td>\n",
              "      <td>462.0</td>\n",
              "      <td>132.0</td>\n",
              "      <td>475.0</td>\n",
              "      <td>530.0</td>\n",
              "      <td>Samantha Morton</td>\n",
              "      <td>640.0</td>\n",
              "      <td>73058679.0</td>\n",
              "      <td>Action|Adventure|Sci-Fi</td>\n",
              "      <td>...</td>\n",
              "      <td>738.0</td>\n",
              "      <td>English</td>\n",
              "      <td>USA</td>\n",
              "      <td>PG-13</td>\n",
              "      <td>263700000.0</td>\n",
              "      <td>2012.0</td>\n",
              "      <td>632.0</td>\n",
              "      <td>6.6</td>\n",
              "      <td>2.35</td>\n",
              "      <td>24000</td>\n",
              "    </tr>\n",
              "    <tr>\n",
              "      <th>6</th>\n",
              "      <td>Color</td>\n",
              "      <td>Sam Raimi</td>\n",
              "      <td>392.0</td>\n",
              "      <td>156.0</td>\n",
              "      <td>0.0</td>\n",
              "      <td>4000.0</td>\n",
              "      <td>James Franco</td>\n",
              "      <td>24000.0</td>\n",
              "      <td>336530303.0</td>\n",
              "      <td>Action|Adventure|Romance</td>\n",
              "      <td>...</td>\n",
              "      <td>1902.0</td>\n",
              "      <td>English</td>\n",
              "      <td>USA</td>\n",
              "      <td>PG-13</td>\n",
              "      <td>258000000.0</td>\n",
              "      <td>2007.0</td>\n",
              "      <td>11000.0</td>\n",
              "      <td>6.2</td>\n",
              "      <td>2.35</td>\n",
              "      <td>0</td>\n",
              "    </tr>\n",
              "    <tr>\n",
              "      <th>7</th>\n",
              "      <td>Color</td>\n",
              "      <td>Nathan Greno</td>\n",
              "      <td>324.0</td>\n",
              "      <td>100.0</td>\n",
              "      <td>15.0</td>\n",
              "      <td>284.0</td>\n",
              "      <td>Donna Murphy</td>\n",
              "      <td>799.0</td>\n",
              "      <td>200807262.0</td>\n",
              "      <td>Adventure|Animation|Comedy|Family|Fantasy|Musi...</td>\n",
              "      <td>...</td>\n",
              "      <td>387.0</td>\n",
              "      <td>English</td>\n",
              "      <td>USA</td>\n",
              "      <td>PG</td>\n",
              "      <td>260000000.0</td>\n",
              "      <td>2010.0</td>\n",
              "      <td>553.0</td>\n",
              "      <td>7.8</td>\n",
              "      <td>1.85</td>\n",
              "      <td>29000</td>\n",
              "    </tr>\n",
              "    <tr>\n",
              "      <th>8</th>\n",
              "      <td>Color</td>\n",
              "      <td>Joss Whedon</td>\n",
              "      <td>635.0</td>\n",
              "      <td>141.0</td>\n",
              "      <td>0.0</td>\n",
              "      <td>19000.0</td>\n",
              "      <td>Robert Downey Jr.</td>\n",
              "      <td>26000.0</td>\n",
              "      <td>458991599.0</td>\n",
              "      <td>Action|Adventure|Sci-Fi</td>\n",
              "      <td>...</td>\n",
              "      <td>1117.0</td>\n",
              "      <td>English</td>\n",
              "      <td>USA</td>\n",
              "      <td>PG-13</td>\n",
              "      <td>250000000.0</td>\n",
              "      <td>2015.0</td>\n",
              "      <td>21000.0</td>\n",
              "      <td>7.5</td>\n",
              "      <td>2.35</td>\n",
              "      <td>118000</td>\n",
              "    </tr>\n",
              "    <tr>\n",
              "      <th>9</th>\n",
              "      <td>Color</td>\n",
              "      <td>David Yates</td>\n",
              "      <td>375.0</td>\n",
              "      <td>153.0</td>\n",
              "      <td>282.0</td>\n",
              "      <td>10000.0</td>\n",
              "      <td>Daniel Radcliffe</td>\n",
              "      <td>25000.0</td>\n",
              "      <td>301956980.0</td>\n",
              "      <td>Adventure|Family|Fantasy|Mystery</td>\n",
              "      <td>...</td>\n",
              "      <td>973.0</td>\n",
              "      <td>English</td>\n",
              "      <td>UK</td>\n",
              "      <td>PG</td>\n",
              "      <td>250000000.0</td>\n",
              "      <td>2009.0</td>\n",
              "      <td>11000.0</td>\n",
              "      <td>7.5</td>\n",
              "      <td>2.35</td>\n",
              "      <td>10000</td>\n",
              "    </tr>\n",
              "  </tbody>\n",
              "</table>\n",
              "<p>10 rows × 28 columns</p>\n",
              "</div>\n",
              "      <button class=\"colab-df-convert\" onclick=\"convertToInteractive('df-644e2d04-9b95-4e28-bee2-2c0052faf286')\"\n",
              "              title=\"Convert this dataframe to an interactive table.\"\n",
              "              style=\"display:none;\">\n",
              "        \n",
              "  <svg xmlns=\"http://www.w3.org/2000/svg\" height=\"24px\"viewBox=\"0 0 24 24\"\n",
              "       width=\"24px\">\n",
              "    <path d=\"M0 0h24v24H0V0z\" fill=\"none\"/>\n",
              "    <path d=\"M18.56 5.44l.94 2.06.94-2.06 2.06-.94-2.06-.94-.94-2.06-.94 2.06-2.06.94zm-11 1L8.5 8.5l.94-2.06 2.06-.94-2.06-.94L8.5 2.5l-.94 2.06-2.06.94zm10 10l.94 2.06.94-2.06 2.06-.94-2.06-.94-.94-2.06-.94 2.06-2.06.94z\"/><path d=\"M17.41 7.96l-1.37-1.37c-.4-.4-.92-.59-1.43-.59-.52 0-1.04.2-1.43.59L10.3 9.45l-7.72 7.72c-.78.78-.78 2.05 0 2.83L4 21.41c.39.39.9.59 1.41.59.51 0 1.02-.2 1.41-.59l7.78-7.78 2.81-2.81c.8-.78.8-2.07 0-2.86zM5.41 20L4 18.59l7.72-7.72 1.47 1.35L5.41 20z\"/>\n",
              "  </svg>\n",
              "      </button>\n",
              "      \n",
              "  <style>\n",
              "    .colab-df-container {\n",
              "      display:flex;\n",
              "      flex-wrap:wrap;\n",
              "      gap: 12px;\n",
              "    }\n",
              "\n",
              "    .colab-df-convert {\n",
              "      background-color: #E8F0FE;\n",
              "      border: none;\n",
              "      border-radius: 50%;\n",
              "      cursor: pointer;\n",
              "      display: none;\n",
              "      fill: #1967D2;\n",
              "      height: 32px;\n",
              "      padding: 0 0 0 0;\n",
              "      width: 32px;\n",
              "    }\n",
              "\n",
              "    .colab-df-convert:hover {\n",
              "      background-color: #E2EBFA;\n",
              "      box-shadow: 0px 1px 2px rgba(60, 64, 67, 0.3), 0px 1px 3px 1px rgba(60, 64, 67, 0.15);\n",
              "      fill: #174EA6;\n",
              "    }\n",
              "\n",
              "    [theme=dark] .colab-df-convert {\n",
              "      background-color: #3B4455;\n",
              "      fill: #D2E3FC;\n",
              "    }\n",
              "\n",
              "    [theme=dark] .colab-df-convert:hover {\n",
              "      background-color: #434B5C;\n",
              "      box-shadow: 0px 1px 3px 1px rgba(0, 0, 0, 0.15);\n",
              "      filter: drop-shadow(0px 1px 2px rgba(0, 0, 0, 0.3));\n",
              "      fill: #FFFFFF;\n",
              "    }\n",
              "  </style>\n",
              "\n",
              "      <script>\n",
              "        const buttonEl =\n",
              "          document.querySelector('#df-644e2d04-9b95-4e28-bee2-2c0052faf286 button.colab-df-convert');\n",
              "        buttonEl.style.display =\n",
              "          google.colab.kernel.accessAllowed ? 'block' : 'none';\n",
              "\n",
              "        async function convertToInteractive(key) {\n",
              "          const element = document.querySelector('#df-644e2d04-9b95-4e28-bee2-2c0052faf286');\n",
              "          const dataTable =\n",
              "            await google.colab.kernel.invokeFunction('convertToInteractive',\n",
              "                                                     [key], {});\n",
              "          if (!dataTable) return;\n",
              "\n",
              "          const docLinkHtml = 'Like what you see? Visit the ' +\n",
              "            '<a target=\"_blank\" href=https://colab.research.google.com/notebooks/data_table.ipynb>data table notebook</a>'\n",
              "            + ' to learn more about interactive tables.';\n",
              "          element.innerHTML = '';\n",
              "          dataTable['output_type'] = 'display_data';\n",
              "          await google.colab.output.renderOutput(dataTable, element);\n",
              "          const docLink = document.createElement('div');\n",
              "          docLink.innerHTML = docLinkHtml;\n",
              "          element.appendChild(docLink);\n",
              "        }\n",
              "      </script>\n",
              "    </div>\n",
              "  </div>\n",
              "  "
            ],
            "text/plain": [
              "   color      director_name  num_critic_for_reviews  duration  \\\n",
              "0  Color      James Cameron                   723.0     178.0   \n",
              "1  Color     Gore Verbinski                   302.0     169.0   \n",
              "2  Color         Sam Mendes                   602.0     148.0   \n",
              "3  Color  Christopher Nolan                   813.0     164.0   \n",
              "4    NaN        Doug Walker                     NaN       NaN   \n",
              "5  Color     Andrew Stanton                   462.0     132.0   \n",
              "6  Color          Sam Raimi                   392.0     156.0   \n",
              "7  Color       Nathan Greno                   324.0     100.0   \n",
              "8  Color        Joss Whedon                   635.0     141.0   \n",
              "9  Color        David Yates                   375.0     153.0   \n",
              "\n",
              "   director_facebook_likes  actor_3_facebook_likes       actor_2_name  \\\n",
              "0                      0.0                   855.0   Joel David Moore   \n",
              "1                    563.0                  1000.0      Orlando Bloom   \n",
              "2                      0.0                   161.0       Rory Kinnear   \n",
              "3                  22000.0                 23000.0     Christian Bale   \n",
              "4                    131.0                     NaN         Rob Walker   \n",
              "5                    475.0                   530.0    Samantha Morton   \n",
              "6                      0.0                  4000.0       James Franco   \n",
              "7                     15.0                   284.0       Donna Murphy   \n",
              "8                      0.0                 19000.0  Robert Downey Jr.   \n",
              "9                    282.0                 10000.0   Daniel Radcliffe   \n",
              "\n",
              "   actor_1_facebook_likes        gross  \\\n",
              "0                  1000.0  760505847.0   \n",
              "1                 40000.0  309404152.0   \n",
              "2                 11000.0  200074175.0   \n",
              "3                 27000.0  448130642.0   \n",
              "4                   131.0          NaN   \n",
              "5                   640.0   73058679.0   \n",
              "6                 24000.0  336530303.0   \n",
              "7                   799.0  200807262.0   \n",
              "8                 26000.0  458991599.0   \n",
              "9                 25000.0  301956980.0   \n",
              "\n",
              "                                              genres  ...  \\\n",
              "0                    Action|Adventure|Fantasy|Sci-Fi  ...   \n",
              "1                           Action|Adventure|Fantasy  ...   \n",
              "2                          Action|Adventure|Thriller  ...   \n",
              "3                                    Action|Thriller  ...   \n",
              "4                                        Documentary  ...   \n",
              "5                            Action|Adventure|Sci-Fi  ...   \n",
              "6                           Action|Adventure|Romance  ...   \n",
              "7  Adventure|Animation|Comedy|Family|Fantasy|Musi...  ...   \n",
              "8                            Action|Adventure|Sci-Fi  ...   \n",
              "9                   Adventure|Family|Fantasy|Mystery  ...   \n",
              "\n",
              "  num_user_for_reviews language  country  content_rating       budget  \\\n",
              "0               3054.0  English      USA           PG-13  237000000.0   \n",
              "1               1238.0  English      USA           PG-13  300000000.0   \n",
              "2                994.0  English       UK           PG-13  245000000.0   \n",
              "3               2701.0  English      USA           PG-13  250000000.0   \n",
              "4                  NaN      NaN      NaN             NaN          NaN   \n",
              "5                738.0  English      USA           PG-13  263700000.0   \n",
              "6               1902.0  English      USA           PG-13  258000000.0   \n",
              "7                387.0  English      USA              PG  260000000.0   \n",
              "8               1117.0  English      USA           PG-13  250000000.0   \n",
              "9                973.0  English       UK              PG  250000000.0   \n",
              "\n",
              "   title_year actor_2_facebook_likes imdb_score  aspect_ratio  \\\n",
              "0      2009.0                  936.0        7.9          1.78   \n",
              "1      2007.0                 5000.0        7.1          2.35   \n",
              "2      2015.0                  393.0        6.8          2.35   \n",
              "3      2012.0                23000.0        8.5          2.35   \n",
              "4         NaN                   12.0        7.1           NaN   \n",
              "5      2012.0                  632.0        6.6          2.35   \n",
              "6      2007.0                11000.0        6.2          2.35   \n",
              "7      2010.0                  553.0        7.8          1.85   \n",
              "8      2015.0                21000.0        7.5          2.35   \n",
              "9      2009.0                11000.0        7.5          2.35   \n",
              "\n",
              "  movie_facebook_likes  \n",
              "0                33000  \n",
              "1                    0  \n",
              "2                85000  \n",
              "3               164000  \n",
              "4                    0  \n",
              "5                24000  \n",
              "6                    0  \n",
              "7                29000  \n",
              "8               118000  \n",
              "9                10000  \n",
              "\n",
              "[10 rows x 28 columns]"
            ]
          },
          "metadata": {},
          "execution_count": 42
        }
      ],
      "source": [
        "data.head(10)"
      ]
    },
    {
      "cell_type": "markdown",
      "metadata": {
        "id": "rCYMhyGgWJTk"
      },
      "source": [
        "-  ### Subtask 1.2: Inspect the dataframe\n",
        "Inspect the dataframe's columns, shapes, variable types etc."
      ]
    },
    {
      "cell_type": "code",
      "execution_count": null,
      "metadata": {
        "colab": {
          "base_uri": "https://localhost:8080/"
        },
        "id": "DB3iw8YUWJTl",
        "outputId": "1d9c6ff0-a273-433d-daae-90fb34d4a9f8"
      },
      "outputs": [
        {
          "output_type": "execute_result",
          "data": {
            "text/plain": [
              "(5043, 28)"
            ]
          },
          "metadata": {},
          "execution_count": 43
        }
      ],
      "source": [
        "# number of rows and colums in the data frame\n",
        "data.shape"
      ]
    },
    {
      "cell_type": "code",
      "execution_count": null,
      "metadata": {
        "colab": {
          "base_uri": "https://localhost:8080/"
        },
        "id": "bIAhyyg8WJTl",
        "outputId": "30cd8bd2-a205-4e50-b2eb-82fc97db5b26"
      },
      "outputs": [
        {
          "output_type": "stream",
          "name": "stdout",
          "text": [
            "<class 'pandas.core.frame.DataFrame'>\n",
            "RangeIndex: 5043 entries, 0 to 5042\n",
            "Data columns (total 28 columns):\n",
            " #   Column                     Non-Null Count  Dtype  \n",
            "---  ------                     --------------  -----  \n",
            " 0   color                      5024 non-null   object \n",
            " 1   director_name              4939 non-null   object \n",
            " 2   num_critic_for_reviews     4993 non-null   float64\n",
            " 3   duration                   5028 non-null   float64\n",
            " 4   director_facebook_likes    4939 non-null   float64\n",
            " 5   actor_3_facebook_likes     5020 non-null   float64\n",
            " 6   actor_2_name               5030 non-null   object \n",
            " 7   actor_1_facebook_likes     5036 non-null   float64\n",
            " 8   gross                      4159 non-null   float64\n",
            " 9   genres                     5043 non-null   object \n",
            " 10  actor_1_name               5036 non-null   object \n",
            " 11  movie_title                5043 non-null   object \n",
            " 12  num_voted_users            5043 non-null   int64  \n",
            " 13  cast_total_facebook_likes  5043 non-null   int64  \n",
            " 14  actor_3_name               5020 non-null   object \n",
            " 15  facenumber_in_poster       5030 non-null   float64\n",
            " 16  plot_keywords              4890 non-null   object \n",
            " 17  movie_imdb_link            5043 non-null   object \n",
            " 18  num_user_for_reviews       5022 non-null   float64\n",
            " 19  language                   5031 non-null   object \n",
            " 20  country                    5038 non-null   object \n",
            " 21  content_rating             4740 non-null   object \n",
            " 22  budget                     4551 non-null   float64\n",
            " 23  title_year                 4935 non-null   float64\n",
            " 24  actor_2_facebook_likes     5030 non-null   float64\n",
            " 25  imdb_score                 5043 non-null   float64\n",
            " 26  aspect_ratio               4714 non-null   float64\n",
            " 27  movie_facebook_likes       5043 non-null   int64  \n",
            "dtypes: float64(13), int64(3), object(12)\n",
            "memory usage: 1.1+ MB\n"
          ]
        }
      ],
      "source": [
        "data.info()"
      ]
    },
    {
      "cell_type": "code",
      "execution_count": null,
      "metadata": {
        "colab": {
          "base_uri": "https://localhost:8080/"
        },
        "id": "o6ruKuRGWJTm",
        "outputId": "e243c36b-19ad-4ef7-a800-31a84ea39ce3"
      },
      "outputs": [
        {
          "output_type": "execute_result",
          "data": {
            "text/plain": [
              "Index(['color', 'director_name', 'num_critic_for_reviews', 'duration',\n",
              "       'director_facebook_likes', 'actor_3_facebook_likes', 'actor_2_name',\n",
              "       'actor_1_facebook_likes', 'gross', 'genres', 'actor_1_name',\n",
              "       'movie_title', 'num_voted_users', 'cast_total_facebook_likes',\n",
              "       'actor_3_name', 'facenumber_in_poster', 'plot_keywords',\n",
              "       'movie_imdb_link', 'num_user_for_reviews', 'language', 'country',\n",
              "       'content_rating', 'budget', 'title_year', 'actor_2_facebook_likes',\n",
              "       'imdb_score', 'aspect_ratio', 'movie_facebook_likes'],\n",
              "      dtype='object')"
            ]
          },
          "metadata": {},
          "execution_count": 45
        }
      ],
      "source": [
        "data.columns"
      ]
    },
    {
      "cell_type": "markdown",
      "metadata": {
        "id": "nGAvujCZWJTn"
      },
      "source": [
        "## Task 2: Cleaning the Data\n",
        "\n",
        "-  ### Subtask 2.1: Inspect Null values"
      ]
    },
    {
      "cell_type": "code",
      "execution_count": null,
      "metadata": {
        "colab": {
          "base_uri": "https://localhost:8080/"
        },
        "id": "1zH67xuSWJTo",
        "outputId": "8be9f0db-3157-4497-87b9-2f143cc3977f"
      },
      "outputs": [
        {
          "output_type": "execute_result",
          "data": {
            "text/plain": [
              "gross                        884\n",
              "budget                       492\n",
              "aspect_ratio                 329\n",
              "content_rating               303\n",
              "plot_keywords                153\n",
              "title_year                   108\n",
              "director_name                104\n",
              "director_facebook_likes      104\n",
              "num_critic_for_reviews        50\n",
              "actor_3_name                  23\n",
              "actor_3_facebook_likes        23\n",
              "num_user_for_reviews          21\n",
              "color                         19\n",
              "duration                      15\n",
              "facenumber_in_poster          13\n",
              "actor_2_name                  13\n",
              "actor_2_facebook_likes        13\n",
              "language                      12\n",
              "actor_1_name                   7\n",
              "actor_1_facebook_likes         7\n",
              "country                        5\n",
              "cast_total_facebook_likes      0\n",
              "num_voted_users                0\n",
              "movie_title                    0\n",
              "movie_imdb_link                0\n",
              "genres                         0\n",
              "imdb_score                     0\n",
              "movie_facebook_likes           0\n",
              "dtype: int64"
            ]
          },
          "metadata": {},
          "execution_count": 46
        }
      ],
      "source": [
        "#column-wise null count here\n",
        "data.isnull().sum(axis=0).sort_values(ascending=False)"
      ]
    },
    {
      "cell_type": "code",
      "execution_count": null,
      "metadata": {
        "colab": {
          "base_uri": "https://localhost:8080/"
        },
        "id": "mRXoH_7PWJTp",
        "outputId": "8741bdd4-de88-4c70-eacd-901213a7307c"
      },
      "outputs": [
        {
          "output_type": "execute_result",
          "data": {
            "text/plain": [
              "2016.0    106\n",
              "2015.0    226\n",
              "2014.0    252\n",
              "2013.0    237\n",
              "2012.0    221\n",
              "         ... \n",
              "1929.0      2\n",
              "1927.0      1\n",
              "1925.0      1\n",
              "1920.0      1\n",
              "1916.0      1\n",
              "Name: title_year, Length: 91, dtype: int64"
            ]
          },
          "metadata": {},
          "execution_count": 47
        }
      ],
      "source": [
        "data['title_year'].value_counts().sort_index(ascending=False)"
      ]
    },
    {
      "cell_type": "code",
      "execution_count": null,
      "metadata": {
        "colab": {
          "base_uri": "https://localhost:8080/",
          "height": 1000
        },
        "id": "Olr7fbU7WJTq",
        "outputId": "ba20d9b4-0c50-4352-d245-72472c3f7d37"
      },
      "outputs": [
        {
          "output_type": "display_data",
          "data": {
            "image/png": "[encoded data removed]",
            "text/plain": [
              "<Figure size 1080x1296 with 1 Axes>"
            ]
          },
          "metadata": {
            "needs_background": "light"
          }
        }
      ],
      "source": [
        "# movie chart by year\n",
        "data['title_year'].value_counts(dropna=False).sort_index().plot(kind='barh', figsize=(15,18))\n",
        "plt.xlabel('Count of movies',labelpad=18)\n",
        "plt.ylabel('Years',labelpad=18)\n",
        "plt.title(\"Count of movies by Year\", y=1.02)\n",
        "y=data['title_year'].value_counts(dropna=False).sort_index()\n",
        "for index, value in enumerate(y):\n",
        "    plt.text(value, index, str(value)) \n",
        "plt.show()\n",
        "\n"
      ]
    },
    {
      "cell_type": "markdown",
      "metadata": {
        "id": "7puVIEXVWJTq"
      },
      "source": [
        "-  ### Subtask 2.2: Selecting necessary columns and inspection columns have null value"
      ]
    },
    {
      "cell_type": "code",
      "execution_count": null,
      "metadata": {
        "colab": {
          "base_uri": "https://localhost:8080/"
        },
        "id": "R8RgE0xzWJTr",
        "outputId": "8af251d9-bd04-420c-c32f-353f0d8cd455"
      },
      "outputs": [
        {
          "output_type": "stream",
          "name": "stdout",
          "text": [
            "['movie_title', 'director_name', 'genres', 'actor_1_name', 'actor_2_name', 'actor_3_name']\n"
          ]
        }
      ],
      "source": [
        "# selecting the features for recommendation\n",
        "slt_features =['movie_title','director_name','genres','actor_1_name','actor_2_name','actor_3_name']\n",
        "print(slt_features)"
      ]
    },
    {
      "cell_type": "code",
      "execution_count": null,
      "metadata": {
        "id": "NrF6FVUDWJTr"
      },
      "outputs": [],
      "source": [
        "# printing the first 10 rows with the selected features of data\n",
        "data = data.loc[:,['movie_title', 'director_name', 'genres', 'actor_1_name', 'actor_2_name', 'actor_3_name']]"
      ]
    },
    {
      "cell_type": "code",
      "execution_count": null,
      "metadata": {
        "colab": {
          "base_uri": "https://localhost:8080/"
        },
        "id": "ZC3v6iliWJTs",
        "outputId": "5d34e19f-2a46-438f-f65a-b2fc01d0aea9"
      },
      "outputs": [
        {
          "output_type": "execute_result",
          "data": {
            "text/plain": [
              "director_name    104\n",
              "actor_3_name      23\n",
              "actor_2_name      13\n",
              "actor_1_name       7\n",
              "movie_title        0\n",
              "genres             0\n",
              "dtype: int64"
            ]
          },
          "metadata": {},
          "execution_count": 51
        }
      ],
      "source": [
        "# counting null values by columns\n",
        "data.isnull().sum(axis=0).sort_values(ascending=False)"
      ]
    },
    {
      "cell_type": "code",
      "execution_count": null,
      "metadata": {
        "colab": {
          "base_uri": "https://localhost:8080/"
        },
        "id": "MQfTr1KgWJTt",
        "outputId": "a5b38fb9-bd97-4a89-f611-c2d288b98d46"
      },
      "outputs": [
        {
          "output_type": "execute_result",
          "data": {
            "text/plain": [
              "director_name    2.06\n",
              "actor_3_name     0.46\n",
              "actor_2_name     0.26\n",
              "actor_1_name     0.14\n",
              "movie_title      0.00\n",
              "genres           0.00\n",
              "dtype: float64"
            ]
          },
          "metadata": {},
          "execution_count": 52
        }
      ],
      "source": [
        "# inspection columns have large percentage (greater than 5%) of Null values\n",
        "round(data.isnull().sum().sort_values(ascending=False)/len(data)*100,2)"
      ]
    },
    {
      "cell_type": "markdown",
      "metadata": {
        "id": "krWUX5iBWJTt"
      },
      "source": [
        "-  ### Subtask 2.4: Drop unecessary rows\n",
        "\n",
        "Some of the rows might have greater than five NaN values, should be removed."
      ]
    },
    {
      "cell_type": "code",
      "execution_count": null,
      "metadata": {
        "colab": {
          "base_uri": "https://localhost:8080/"
        },
        "id": "k2KNsrezWJTv",
        "outputId": "ae6eb383-a2f9-4593-a408-4a0adcb8ad5f"
      },
      "outputs": [
        {
          "output_type": "execute_result",
          "data": {
            "text/plain": [
              "2241    3\n",
              "2143    3\n",
              "4720    3\n",
              "4837    3\n",
              "4945    3\n",
              "       ..\n",
              "1695    0\n",
              "1694    0\n",
              "1693    0\n",
              "1692    0\n",
              "5042    0\n",
              "Length: 5043, dtype: int64"
            ]
          },
          "metadata": {},
          "execution_count": 53
        }
      ],
      "source": [
        "#row-wise null count here\n",
        "data.isnull().sum(axis=1).sort_values(ascending=False)"
      ]
    },
    {
      "cell_type": "code",
      "source": [
        "# inspection the rows here if null > 1 columns \n",
        "(data.isnull().sum(axis=1).sort_values(ascending=False) > 1).sum()"
      ],
      "metadata": {
        "colab": {
          "base_uri": "https://localhost:8080/"
        },
        "id": "7ipJzQkPSOZ5",
        "outputId": "0949bb24-af66-43a2-badd-2ef3fe2f66b8"
      },
      "execution_count": null,
      "outputs": [
        {
          "output_type": "execute_result",
          "data": {
            "text/plain": [
              "14"
            ]
          },
          "metadata": {},
          "execution_count": 54
        }
      ]
    },
    {
      "cell_type": "code",
      "source": [
        "#data.dropna(how='any') "
      ],
      "metadata": {
        "id": "5tte7bdDVk_e",
        "colab": {
          "base_uri": "https://localhost:8080/",
          "height": 424
        },
        "outputId": "dcd62441-8dfa-4f31-b4cb-09efea46042e"
      },
      "execution_count": null,
      "outputs": [
        {
          "output_type": "execute_result",
          "data": {
            "text/html": [
              "\n",
              "  <div id=\"df-43e61fe0-2d38-44b2-8bcb-1ea409dac7db\">\n",
              "    <div class=\"colab-df-container\">\n",
              "      <div>\n",
              "<style scoped>\n",
              "    .dataframe tbody tr th:only-of-type {\n",
              "        vertical-align: middle;\n",
              "    }\n",
              "\n",
              "    .dataframe tbody tr th {\n",
              "        vertical-align: top;\n",
              "    }\n",
              "\n",
              "    .dataframe thead th {\n",
              "        text-align: right;\n",
              "    }\n",
              "</style>\n",
              "<table border=\"1\" class=\"dataframe\">\n",
              "  <thead>\n",
              "    <tr style=\"text-align: right;\">\n",
              "      <th></th>\n",
              "      <th>movie_title</th>\n",
              "      <th>director_name</th>\n",
              "      <th>genres</th>\n",
              "      <th>actor_1_name</th>\n",
              "      <th>actor_2_name</th>\n",
              "      <th>actor_3_name</th>\n",
              "    </tr>\n",
              "  </thead>\n",
              "  <tbody>\n",
              "    <tr>\n",
              "      <th>0</th>\n",
              "      <td>Avatar</td>\n",
              "      <td>James Cameron</td>\n",
              "      <td>Action|Adventure|Fantasy|Sci-Fi</td>\n",
              "      <td>CCH Pounder</td>\n",
              "      <td>Joel David Moore</td>\n",
              "      <td>Wes Studi</td>\n",
              "    </tr>\n",
              "    <tr>\n",
              "      <th>1</th>\n",
              "      <td>Pirates of the Caribbean: At World's End</td>\n",
              "      <td>Gore Verbinski</td>\n",
              "      <td>Action|Adventure|Fantasy</td>\n",
              "      <td>Johnny Depp</td>\n",
              "      <td>Orlando Bloom</td>\n",
              "      <td>Jack Davenport</td>\n",
              "    </tr>\n",
              "    <tr>\n",
              "      <th>2</th>\n",
              "      <td>Spectre</td>\n",
              "      <td>Sam Mendes</td>\n",
              "      <td>Action|Adventure|Thriller</td>\n",
              "      <td>Christoph Waltz</td>\n",
              "      <td>Rory Kinnear</td>\n",
              "      <td>Stephanie Sigman</td>\n",
              "    </tr>\n",
              "    <tr>\n",
              "      <th>3</th>\n",
              "      <td>The Dark Knight Rises</td>\n",
              "      <td>Christopher Nolan</td>\n",
              "      <td>Action|Thriller</td>\n",
              "      <td>Tom Hardy</td>\n",
              "      <td>Christian Bale</td>\n",
              "      <td>Joseph Gordon-Levitt</td>\n",
              "    </tr>\n",
              "    <tr>\n",
              "      <th>5</th>\n",
              "      <td>John Carter</td>\n",
              "      <td>Andrew Stanton</td>\n",
              "      <td>Action|Adventure|Sci-Fi</td>\n",
              "      <td>Daryl Sabara</td>\n",
              "      <td>Samantha Morton</td>\n",
              "      <td>Polly Walker</td>\n",
              "    </tr>\n",
              "    <tr>\n",
              "      <th>...</th>\n",
              "      <td>...</td>\n",
              "      <td>...</td>\n",
              "      <td>...</td>\n",
              "      <td>...</td>\n",
              "      <td>...</td>\n",
              "      <td>...</td>\n",
              "    </tr>\n",
              "    <tr>\n",
              "      <th>5037</th>\n",
              "      <td>Newlyweds</td>\n",
              "      <td>Edward Burns</td>\n",
              "      <td>Comedy|Drama</td>\n",
              "      <td>Kerry Bishé</td>\n",
              "      <td>Caitlin FitzGerald</td>\n",
              "      <td>Daniella Pineda</td>\n",
              "    </tr>\n",
              "    <tr>\n",
              "      <th>5038</th>\n",
              "      <td>Signed Sealed Delivered</td>\n",
              "      <td>Scott Smith</td>\n",
              "      <td>Comedy|Drama</td>\n",
              "      <td>Eric Mabius</td>\n",
              "      <td>Daphne Zuniga</td>\n",
              "      <td>Crystal Lowe</td>\n",
              "    </tr>\n",
              "    <tr>\n",
              "      <th>5040</th>\n",
              "      <td>A Plague So Pleasant</td>\n",
              "      <td>Benjamin Roberds</td>\n",
              "      <td>Drama|Horror|Thriller</td>\n",
              "      <td>Eva Boehnke</td>\n",
              "      <td>Maxwell Moody</td>\n",
              "      <td>David Chandler</td>\n",
              "    </tr>\n",
              "    <tr>\n",
              "      <th>5041</th>\n",
              "      <td>Shanghai Calling</td>\n",
              "      <td>Daniel Hsia</td>\n",
              "      <td>Comedy|Drama|Romance</td>\n",
              "      <td>Alan Ruck</td>\n",
              "      <td>Daniel Henney</td>\n",
              "      <td>Eliza Coupe</td>\n",
              "    </tr>\n",
              "    <tr>\n",
              "      <th>5042</th>\n",
              "      <td>My Date with Drew</td>\n",
              "      <td>Jon Gunn</td>\n",
              "      <td>Documentary</td>\n",
              "      <td>John August</td>\n",
              "      <td>Brian Herzlinger</td>\n",
              "      <td>Jon Gunn</td>\n",
              "    </tr>\n",
              "  </tbody>\n",
              "</table>\n",
              "<p>4919 rows × 6 columns</p>\n",
              "</div>\n",
              "      <button class=\"colab-df-convert\" onclick=\"convertToInteractive('df-43e61fe0-2d38-44b2-8bcb-1ea409dac7db')\"\n",
              "              title=\"Convert this dataframe to an interactive table.\"\n",
              "              style=\"display:none;\">\n",
              "        \n",
              "  <svg xmlns=\"http://www.w3.org/2000/svg\" height=\"24px\"viewBox=\"0 0 24 24\"\n",
              "       width=\"24px\">\n",
              "    <path d=\"M0 0h24v24H0V0z\" fill=\"none\"/>\n",
              "    <path d=\"M18.56 5.44l.94 2.06.94-2.06 2.06-.94-2.06-.94-.94-2.06-.94 2.06-2.06.94zm-11 1L8.5 8.5l.94-2.06 2.06-.94-2.06-.94L8.5 2.5l-.94 2.06-2.06.94zm10 10l.94 2.06.94-2.06 2.06-.94-2.06-.94-.94-2.06-.94 2.06-2.06.94z\"/><path d=\"M17.41 7.96l-1.37-1.37c-.4-.4-.92-.59-1.43-.59-.52 0-1.04.2-1.43.59L10.3 9.45l-7.72 7.72c-.78.78-.78 2.05 0 2.83L4 21.41c.39.39.9.59 1.41.59.51 0 1.02-.2 1.41-.59l7.78-7.78 2.81-2.81c.8-.78.8-2.07 0-2.86zM5.41 20L4 18.59l7.72-7.72 1.47 1.35L5.41 20z\"/>\n",
              "  </svg>\n",
              "      </button>\n",
              "      \n",
              "  <style>\n",
              "    .colab-df-container {\n",
              "      display:flex;\n",
              "      flex-wrap:wrap;\n",
              "      gap: 12px;\n",
              "    }\n",
              "\n",
              "    .colab-df-convert {\n",
              "      background-color: #E8F0FE;\n",
              "      border: none;\n",
              "      border-radius: 50%;\n",
              "      cursor: pointer;\n",
              "      display: none;\n",
              "      fill: #1967D2;\n",
              "      height: 32px;\n",
              "      padding: 0 0 0 0;\n",
              "      width: 32px;\n",
              "    }\n",
              "\n",
              "    .colab-df-convert:hover {\n",
              "      background-color: #E2EBFA;\n",
              "      box-shadow: 0px 1px 2px rgba(60, 64, 67, 0.3), 0px 1px 3px 1px rgba(60, 64, 67, 0.15);\n",
              "      fill: #174EA6;\n",
              "    }\n",
              "\n",
              "    [theme=dark] .colab-df-convert {\n",
              "      background-color: #3B4455;\n",
              "      fill: #D2E3FC;\n",
              "    }\n",
              "\n",
              "    [theme=dark] .colab-df-convert:hover {\n",
              "      background-color: #434B5C;\n",
              "      box-shadow: 0px 1px 3px 1px rgba(0, 0, 0, 0.15);\n",
              "      filter: drop-shadow(0px 1px 2px rgba(0, 0, 0, 0.3));\n",
              "      fill: #FFFFFF;\n",
              "    }\n",
              "  </style>\n",
              "\n",
              "      <script>\n",
              "        const buttonEl =\n",
              "          document.querySelector('#df-43e61fe0-2d38-44b2-8bcb-1ea409dac7db button.colab-df-convert');\n",
              "        buttonEl.style.display =\n",
              "          google.colab.kernel.accessAllowed ? 'block' : 'none';\n",
              "\n",
              "        async function convertToInteractive(key) {\n",
              "          const element = document.querySelector('#df-43e61fe0-2d38-44b2-8bcb-1ea409dac7db');\n",
              "          const dataTable =\n",
              "            await google.colab.kernel.invokeFunction('convertToInteractive',\n",
              "                                                     [key], {});\n",
              "          if (!dataTable) return;\n",
              "\n",
              "          const docLinkHtml = 'Like what you see? Visit the ' +\n",
              "            '<a target=\"_blank\" href=https://colab.research.google.com/notebooks/data_table.ipynb>data table notebook</a>'\n",
              "            + ' to learn more about interactive tables.';\n",
              "          element.innerHTML = '';\n",
              "          dataTable['output_type'] = 'display_data';\n",
              "          await google.colab.output.renderOutput(dataTable, element);\n",
              "          const docLink = document.createElement('div');\n",
              "          docLink.innerHTML = docLinkHtml;\n",
              "          element.appendChild(docLink);\n",
              "        }\n",
              "      </script>\n",
              "    </div>\n",
              "  </div>\n",
              "  "
            ],
            "text/plain": [
              "                                    movie_title      director_name  \\\n",
              "0                                       Avatar       James Cameron   \n",
              "1     Pirates of the Caribbean: At World's End      Gore Verbinski   \n",
              "2                                      Spectre          Sam Mendes   \n",
              "3                        The Dark Knight Rises   Christopher Nolan   \n",
              "5                                  John Carter      Andrew Stanton   \n",
              "...                                         ...                ...   \n",
              "5037                                 Newlyweds        Edward Burns   \n",
              "5038                   Signed Sealed Delivered         Scott Smith   \n",
              "5040                      A Plague So Pleasant    Benjamin Roberds   \n",
              "5041                          Shanghai Calling         Daniel Hsia   \n",
              "5042                         My Date with Drew            Jon Gunn   \n",
              "\n",
              "                               genres     actor_1_name        actor_2_name  \\\n",
              "0     Action|Adventure|Fantasy|Sci-Fi      CCH Pounder    Joel David Moore   \n",
              "1            Action|Adventure|Fantasy      Johnny Depp       Orlando Bloom   \n",
              "2           Action|Adventure|Thriller  Christoph Waltz        Rory Kinnear   \n",
              "3                     Action|Thriller        Tom Hardy      Christian Bale   \n",
              "5             Action|Adventure|Sci-Fi     Daryl Sabara     Samantha Morton   \n",
              "...                               ...              ...                 ...   \n",
              "5037                     Comedy|Drama      Kerry Bishé  Caitlin FitzGerald   \n",
              "5038                     Comedy|Drama      Eric Mabius       Daphne Zuniga   \n",
              "5040            Drama|Horror|Thriller      Eva Boehnke       Maxwell Moody   \n",
              "5041             Comedy|Drama|Romance        Alan Ruck       Daniel Henney   \n",
              "5042                      Documentary      John August    Brian Herzlinger   \n",
              "\n",
              "              actor_3_name  \n",
              "0                Wes Studi  \n",
              "1           Jack Davenport  \n",
              "2         Stephanie Sigman  \n",
              "3     Joseph Gordon-Levitt  \n",
              "5             Polly Walker  \n",
              "...                    ...  \n",
              "5037       Daniella Pineda  \n",
              "5038          Crystal Lowe  \n",
              "5040        David Chandler  \n",
              "5041           Eliza Coupe  \n",
              "5042              Jon Gunn  \n",
              "\n",
              "[4919 rows x 6 columns]"
            ]
          },
          "metadata": {},
          "execution_count": 55
        }
      ]
    },
    {
      "cell_type": "code",
      "execution_count": null,
      "metadata": {
        "id": "-vgWpujLWJTv"
      },
      "outputs": [],
      "source": [
        "# list features have null values \n",
        "features_nan = data.columns[data.isnull().sum(axis=0) >= 1] \n"
      ]
    },
    {
      "cell_type": "code",
      "execution_count": null,
      "metadata": {
        "colab": {
          "base_uri": "https://localhost:8080/"
        },
        "id": "YylvOKPvWJTw",
        "outputId": "05e2365c-b778-41e2-efed-3d36341fb5ee"
      },
      "outputs": [
        {
          "output_type": "execute_result",
          "data": {
            "text/plain": [
              "Index(['director_name', 'actor_1_name', 'actor_2_name', 'actor_3_name'], dtype='object')"
            ]
          },
          "metadata": {},
          "execution_count": 57
        }
      ],
      "source": [
        "features_nan"
      ]
    },
    {
      "cell_type": "markdown",
      "metadata": {
        "id": "l_lC1GcrWJTw"
      },
      "source": [
        "  ### Subtask 2.5: Fill NaN values and replace special characters\n",
        "   `feature` columns have some NaN values, replacing all the missing values with `''`and `genres` column has `|` character."
      ]
    },
    {
      "cell_type": "code",
      "execution_count": null,
      "metadata": {
        "id": "REqUdErwWJTx"
      },
      "outputs": [],
      "source": [
        "# replacing the null valuess with null string\n",
        "for feature in features_nan:\n",
        "    data[feature] = data[feature].fillna('')"
      ]
    },
    {
      "cell_type": "code",
      "execution_count": null,
      "metadata": {
        "colab": {
          "base_uri": "https://localhost:8080/",
          "height": 407
        },
        "id": "EbofctrGWJTx",
        "outputId": "356ce88b-aea5-4f46-f2c6-a9dfda5d87e2"
      },
      "outputs": [
        {
          "output_type": "execute_result",
          "data": {
            "text/html": [
              "\n",
              "  <div id=\"df-c479d57f-7f9b-412f-88c7-e5999a10691f\">\n",
              "    <div class=\"colab-df-container\">\n",
              "      <div>\n",
              "<style scoped>\n",
              "    .dataframe tbody tr th:only-of-type {\n",
              "        vertical-align: middle;\n",
              "    }\n",
              "\n",
              "    .dataframe tbody tr th {\n",
              "        vertical-align: top;\n",
              "    }\n",
              "\n",
              "    .dataframe thead th {\n",
              "        text-align: right;\n",
              "    }\n",
              "</style>\n",
              "<table border=\"1\" class=\"dataframe\">\n",
              "  <thead>\n",
              "    <tr style=\"text-align: right;\">\n",
              "      <th></th>\n",
              "      <th>movie_title</th>\n",
              "      <th>director_name</th>\n",
              "      <th>genres</th>\n",
              "      <th>actor_1_name</th>\n",
              "      <th>actor_2_name</th>\n",
              "      <th>actor_3_name</th>\n",
              "    </tr>\n",
              "  </thead>\n",
              "  <tbody>\n",
              "    <tr>\n",
              "      <th>0</th>\n",
              "      <td>Avatar</td>\n",
              "      <td>James Cameron</td>\n",
              "      <td>Action|Adventure|Fantasy|Sci-Fi</td>\n",
              "      <td>CCH Pounder</td>\n",
              "      <td>Joel David Moore</td>\n",
              "      <td>Wes Studi</td>\n",
              "    </tr>\n",
              "    <tr>\n",
              "      <th>1</th>\n",
              "      <td>Pirates of the Caribbean: At World's End</td>\n",
              "      <td>Gore Verbinski</td>\n",
              "      <td>Action|Adventure|Fantasy</td>\n",
              "      <td>Johnny Depp</td>\n",
              "      <td>Orlando Bloom</td>\n",
              "      <td>Jack Davenport</td>\n",
              "    </tr>\n",
              "    <tr>\n",
              "      <th>2</th>\n",
              "      <td>Spectre</td>\n",
              "      <td>Sam Mendes</td>\n",
              "      <td>Action|Adventure|Thriller</td>\n",
              "      <td>Christoph Waltz</td>\n",
              "      <td>Rory Kinnear</td>\n",
              "      <td>Stephanie Sigman</td>\n",
              "    </tr>\n",
              "    <tr>\n",
              "      <th>3</th>\n",
              "      <td>The Dark Knight Rises</td>\n",
              "      <td>Christopher Nolan</td>\n",
              "      <td>Action|Thriller</td>\n",
              "      <td>Tom Hardy</td>\n",
              "      <td>Christian Bale</td>\n",
              "      <td>Joseph Gordon-Levitt</td>\n",
              "    </tr>\n",
              "    <tr>\n",
              "      <th>4</th>\n",
              "      <td>Star Wars: Episode VII - The Force Awakens    ...</td>\n",
              "      <td>Doug Walker</td>\n",
              "      <td>Documentary</td>\n",
              "      <td>Doug Walker</td>\n",
              "      <td>Rob Walker</td>\n",
              "      <td></td>\n",
              "    </tr>\n",
              "    <tr>\n",
              "      <th>5</th>\n",
              "      <td>John Carter</td>\n",
              "      <td>Andrew Stanton</td>\n",
              "      <td>Action|Adventure|Sci-Fi</td>\n",
              "      <td>Daryl Sabara</td>\n",
              "      <td>Samantha Morton</td>\n",
              "      <td>Polly Walker</td>\n",
              "    </tr>\n",
              "    <tr>\n",
              "      <th>6</th>\n",
              "      <td>Spider-Man 3</td>\n",
              "      <td>Sam Raimi</td>\n",
              "      <td>Action|Adventure|Romance</td>\n",
              "      <td>J.K. Simmons</td>\n",
              "      <td>James Franco</td>\n",
              "      <td>Kirsten Dunst</td>\n",
              "    </tr>\n",
              "    <tr>\n",
              "      <th>7</th>\n",
              "      <td>Tangled</td>\n",
              "      <td>Nathan Greno</td>\n",
              "      <td>Adventure|Animation|Comedy|Family|Fantasy|Musi...</td>\n",
              "      <td>Brad Garrett</td>\n",
              "      <td>Donna Murphy</td>\n",
              "      <td>M.C. Gainey</td>\n",
              "    </tr>\n",
              "    <tr>\n",
              "      <th>8</th>\n",
              "      <td>Avengers: Age of Ultron</td>\n",
              "      <td>Joss Whedon</td>\n",
              "      <td>Action|Adventure|Sci-Fi</td>\n",
              "      <td>Chris Hemsworth</td>\n",
              "      <td>Robert Downey Jr.</td>\n",
              "      <td>Scarlett Johansson</td>\n",
              "    </tr>\n",
              "    <tr>\n",
              "      <th>9</th>\n",
              "      <td>Harry Potter and the Half-Blood Prince</td>\n",
              "      <td>David Yates</td>\n",
              "      <td>Adventure|Family|Fantasy|Mystery</td>\n",
              "      <td>Alan Rickman</td>\n",
              "      <td>Daniel Radcliffe</td>\n",
              "      <td>Rupert Grint</td>\n",
              "    </tr>\n",
              "  </tbody>\n",
              "</table>\n",
              "</div>\n",
              "      <button class=\"colab-df-convert\" onclick=\"convertToInteractive('df-c479d57f-7f9b-412f-88c7-e5999a10691f')\"\n",
              "              title=\"Convert this dataframe to an interactive table.\"\n",
              "              style=\"display:none;\">\n",
              "        \n",
              "  <svg xmlns=\"http://www.w3.org/2000/svg\" height=\"24px\"viewBox=\"0 0 24 24\"\n",
              "       width=\"24px\">\n",
              "    <path d=\"M0 0h24v24H0V0z\" fill=\"none\"/>\n",
              "    <path d=\"M18.56 5.44l.94 2.06.94-2.06 2.06-.94-2.06-.94-.94-2.06-.94 2.06-2.06.94zm-11 1L8.5 8.5l.94-2.06 2.06-.94-2.06-.94L8.5 2.5l-.94 2.06-2.06.94zm10 10l.94 2.06.94-2.06 2.06-.94-2.06-.94-.94-2.06-.94 2.06-2.06.94z\"/><path d=\"M17.41 7.96l-1.37-1.37c-.4-.4-.92-.59-1.43-.59-.52 0-1.04.2-1.43.59L10.3 9.45l-7.72 7.72c-.78.78-.78 2.05 0 2.83L4 21.41c.39.39.9.59 1.41.59.51 0 1.02-.2 1.41-.59l7.78-7.78 2.81-2.81c.8-.78.8-2.07 0-2.86zM5.41 20L4 18.59l7.72-7.72 1.47 1.35L5.41 20z\"/>\n",
              "  </svg>\n",
              "      </button>\n",
              "      \n",
              "  <style>\n",
              "    .colab-df-container {\n",
              "      display:flex;\n",
              "      flex-wrap:wrap;\n",
              "      gap: 12px;\n",
              "    }\n",
              "\n",
              "    .colab-df-convert {\n",
              "      background-color: #E8F0FE;\n",
              "      border: none;\n",
              "      border-radius: 50%;\n",
              "      cursor: pointer;\n",
              "      display: none;\n",
              "      fill: #1967D2;\n",
              "      height: 32px;\n",
              "      padding: 0 0 0 0;\n",
              "      width: 32px;\n",
              "    }\n",
              "\n",
              "    .colab-df-convert:hover {\n",
              "      background-color: #E2EBFA;\n",
              "      box-shadow: 0px 1px 2px rgba(60, 64, 67, 0.3), 0px 1px 3px 1px rgba(60, 64, 67, 0.15);\n",
              "      fill: #174EA6;\n",
              "    }\n",
              "\n",
              "    [theme=dark] .colab-df-convert {\n",
              "      background-color: #3B4455;\n",
              "      fill: #D2E3FC;\n",
              "    }\n",
              "\n",
              "    [theme=dark] .colab-df-convert:hover {\n",
              "      background-color: #434B5C;\n",
              "      box-shadow: 0px 1px 3px 1px rgba(0, 0, 0, 0.15);\n",
              "      filter: drop-shadow(0px 1px 2px rgba(0, 0, 0, 0.3));\n",
              "      fill: #FFFFFF;\n",
              "    }\n",
              "  </style>\n",
              "\n",
              "      <script>\n",
              "        const buttonEl =\n",
              "          document.querySelector('#df-c479d57f-7f9b-412f-88c7-e5999a10691f button.colab-df-convert');\n",
              "        buttonEl.style.display =\n",
              "          google.colab.kernel.accessAllowed ? 'block' : 'none';\n",
              "\n",
              "        async function convertToInteractive(key) {\n",
              "          const element = document.querySelector('#df-c479d57f-7f9b-412f-88c7-e5999a10691f');\n",
              "          const dataTable =\n",
              "            await google.colab.kernel.invokeFunction('convertToInteractive',\n",
              "                                                     [key], {});\n",
              "          if (!dataTable) return;\n",
              "\n",
              "          const docLinkHtml = 'Like what you see? Visit the ' +\n",
              "            '<a target=\"_blank\" href=https://colab.research.google.com/notebooks/data_table.ipynb>data table notebook</a>'\n",
              "            + ' to learn more about interactive tables.';\n",
              "          element.innerHTML = '';\n",
              "          dataTable['output_type'] = 'display_data';\n",
              "          await google.colab.output.renderOutput(dataTable, element);\n",
              "          const docLink = document.createElement('div');\n",
              "          docLink.innerHTML = docLinkHtml;\n",
              "          element.appendChild(docLink);\n",
              "        }\n",
              "      </script>\n",
              "    </div>\n",
              "  </div>\n",
              "  "
            ],
            "text/plain": [
              "                                         movie_title      director_name  \\\n",
              "0                                            Avatar       James Cameron   \n",
              "1          Pirates of the Caribbean: At World's End      Gore Verbinski   \n",
              "2                                           Spectre          Sam Mendes   \n",
              "3                             The Dark Knight Rises   Christopher Nolan   \n",
              "4  Star Wars: Episode VII - The Force Awakens    ...        Doug Walker   \n",
              "5                                       John Carter      Andrew Stanton   \n",
              "6                                      Spider-Man 3           Sam Raimi   \n",
              "7                                           Tangled        Nathan Greno   \n",
              "8                           Avengers: Age of Ultron         Joss Whedon   \n",
              "9            Harry Potter and the Half-Blood Prince         David Yates   \n",
              "\n",
              "                                              genres     actor_1_name  \\\n",
              "0                    Action|Adventure|Fantasy|Sci-Fi      CCH Pounder   \n",
              "1                           Action|Adventure|Fantasy      Johnny Depp   \n",
              "2                          Action|Adventure|Thriller  Christoph Waltz   \n",
              "3                                    Action|Thriller        Tom Hardy   \n",
              "4                                        Documentary      Doug Walker   \n",
              "5                            Action|Adventure|Sci-Fi     Daryl Sabara   \n",
              "6                           Action|Adventure|Romance     J.K. Simmons   \n",
              "7  Adventure|Animation|Comedy|Family|Fantasy|Musi...     Brad Garrett   \n",
              "8                            Action|Adventure|Sci-Fi  Chris Hemsworth   \n",
              "9                   Adventure|Family|Fantasy|Mystery     Alan Rickman   \n",
              "\n",
              "        actor_2_name          actor_3_name  \n",
              "0   Joel David Moore             Wes Studi  \n",
              "1      Orlando Bloom        Jack Davenport  \n",
              "2       Rory Kinnear      Stephanie Sigman  \n",
              "3     Christian Bale  Joseph Gordon-Levitt  \n",
              "4         Rob Walker                        \n",
              "5    Samantha Morton          Polly Walker  \n",
              "6       James Franco         Kirsten Dunst  \n",
              "7       Donna Murphy           M.C. Gainey  \n",
              "8  Robert Downey Jr.    Scarlett Johansson  \n",
              "9   Daniel Radcliffe          Rupert Grint  "
            ]
          },
          "metadata": {},
          "execution_count": 59
        }
      ],
      "source": [
        "data.head(10)"
      ]
    },
    {
      "cell_type": "code",
      "execution_count": null,
      "metadata": {
        "colab": {
          "base_uri": "https://localhost:8080/"
        },
        "id": "rvd6mmE8WJTx",
        "outputId": "afc31f3b-f548-4eed-a9d2-8bb0e339d078"
      },
      "outputs": [
        {
          "output_type": "execute_result",
          "data": {
            "text/plain": [
              "movie_title      0\n",
              "director_name    0\n",
              "genres           0\n",
              "actor_1_name     0\n",
              "actor_2_name     0\n",
              "actor_3_name     0\n",
              "dtype: int64"
            ]
          },
          "metadata": {},
          "execution_count": 60
        }
      ],
      "source": [
        "# checking columns have null values of movies\n",
        "data.isnull().sum(axis=0)"
      ]
    },
    {
      "cell_type": "code",
      "execution_count": null,
      "metadata": {
        "colab": {
          "base_uri": "https://localhost:8080/"
        },
        "id": "8ASXGzSAWJTy",
        "outputId": "84a5013f-eb0a-41ef-e9ba-7ee866778c9d"
      },
      "outputs": [
        {
          "output_type": "stream",
          "name": "stderr",
          "text": [
            "/usr/local/lib/python3.7/dist-packages/ipykernel_launcher.py:2: FutureWarning: The default value of regex will change from True to False in a future version. In addition, single character regular expressions will *not* be treated as literal strings when regex=True.\n",
            "  \n"
          ]
        }
      ],
      "source": [
        "# replacing `|` in genres column \n",
        "data['genres'] = data['genres'].str.replace('|',' ')"
      ]
    },
    {
      "cell_type": "code",
      "execution_count": null,
      "metadata": {
        "id": "IKm7uCElWJTy"
      },
      "outputs": [],
      "source": [
        "data['movie_title'] = data['movie_title'].str.lower()"
      ]
    },
    {
      "cell_type": "code",
      "execution_count": null,
      "metadata": {
        "colab": {
          "base_uri": "https://localhost:8080/",
          "height": 206
        },
        "id": "6NYfLi69WJTy",
        "outputId": "8a87d81f-96b6-4601-a9a1-9869af29caf7"
      },
      "outputs": [
        {
          "output_type": "execute_result",
          "data": {
            "text/html": [
              "\n",
              "  <div id=\"df-26ed9ff6-c82a-403e-ad7c-219572ceb316\">\n",
              "    <div class=\"colab-df-container\">\n",
              "      <div>\n",
              "<style scoped>\n",
              "    .dataframe tbody tr th:only-of-type {\n",
              "        vertical-align: middle;\n",
              "    }\n",
              "\n",
              "    .dataframe tbody tr th {\n",
              "        vertical-align: top;\n",
              "    }\n",
              "\n",
              "    .dataframe thead th {\n",
              "        text-align: right;\n",
              "    }\n",
              "</style>\n",
              "<table border=\"1\" class=\"dataframe\">\n",
              "  <thead>\n",
              "    <tr style=\"text-align: right;\">\n",
              "      <th></th>\n",
              "      <th>movie_title</th>\n",
              "      <th>director_name</th>\n",
              "      <th>genres</th>\n",
              "      <th>actor_1_name</th>\n",
              "      <th>actor_2_name</th>\n",
              "      <th>actor_3_name</th>\n",
              "    </tr>\n",
              "  </thead>\n",
              "  <tbody>\n",
              "    <tr>\n",
              "      <th>0</th>\n",
              "      <td>avatar</td>\n",
              "      <td>James Cameron</td>\n",
              "      <td>Action Adventure Fantasy Sci-Fi</td>\n",
              "      <td>CCH Pounder</td>\n",
              "      <td>Joel David Moore</td>\n",
              "      <td>Wes Studi</td>\n",
              "    </tr>\n",
              "    <tr>\n",
              "      <th>1</th>\n",
              "      <td>pirates of the caribbean: at world's end</td>\n",
              "      <td>Gore Verbinski</td>\n",
              "      <td>Action Adventure Fantasy</td>\n",
              "      <td>Johnny Depp</td>\n",
              "      <td>Orlando Bloom</td>\n",
              "      <td>Jack Davenport</td>\n",
              "    </tr>\n",
              "    <tr>\n",
              "      <th>2</th>\n",
              "      <td>spectre</td>\n",
              "      <td>Sam Mendes</td>\n",
              "      <td>Action Adventure Thriller</td>\n",
              "      <td>Christoph Waltz</td>\n",
              "      <td>Rory Kinnear</td>\n",
              "      <td>Stephanie Sigman</td>\n",
              "    </tr>\n",
              "    <tr>\n",
              "      <th>3</th>\n",
              "      <td>the dark knight rises</td>\n",
              "      <td>Christopher Nolan</td>\n",
              "      <td>Action Thriller</td>\n",
              "      <td>Tom Hardy</td>\n",
              "      <td>Christian Bale</td>\n",
              "      <td>Joseph Gordon-Levitt</td>\n",
              "    </tr>\n",
              "    <tr>\n",
              "      <th>4</th>\n",
              "      <td>star wars: episode vii - the force awakens    ...</td>\n",
              "      <td>Doug Walker</td>\n",
              "      <td>Documentary</td>\n",
              "      <td>Doug Walker</td>\n",
              "      <td>Rob Walker</td>\n",
              "      <td></td>\n",
              "    </tr>\n",
              "  </tbody>\n",
              "</table>\n",
              "</div>\n",
              "      <button class=\"colab-df-convert\" onclick=\"convertToInteractive('df-26ed9ff6-c82a-403e-ad7c-219572ceb316')\"\n",
              "              title=\"Convert this dataframe to an interactive table.\"\n",
              "              style=\"display:none;\">\n",
              "        \n",
              "  <svg xmlns=\"http://www.w3.org/2000/svg\" height=\"24px\"viewBox=\"0 0 24 24\"\n",
              "       width=\"24px\">\n",
              "    <path d=\"M0 0h24v24H0V0z\" fill=\"none\"/>\n",
              "    <path d=\"M18.56 5.44l.94 2.06.94-2.06 2.06-.94-2.06-.94-.94-2.06-.94 2.06-2.06.94zm-11 1L8.5 8.5l.94-2.06 2.06-.94-2.06-.94L8.5 2.5l-.94 2.06-2.06.94zm10 10l.94 2.06.94-2.06 2.06-.94-2.06-.94-.94-2.06-.94 2.06-2.06.94z\"/><path d=\"M17.41 7.96l-1.37-1.37c-.4-.4-.92-.59-1.43-.59-.52 0-1.04.2-1.43.59L10.3 9.45l-7.72 7.72c-.78.78-.78 2.05 0 2.83L4 21.41c.39.39.9.59 1.41.59.51 0 1.02-.2 1.41-.59l7.78-7.78 2.81-2.81c.8-.78.8-2.07 0-2.86zM5.41 20L4 18.59l7.72-7.72 1.47 1.35L5.41 20z\"/>\n",
              "  </svg>\n",
              "      </button>\n",
              "      \n",
              "  <style>\n",
              "    .colab-df-container {\n",
              "      display:flex;\n",
              "      flex-wrap:wrap;\n",
              "      gap: 12px;\n",
              "    }\n",
              "\n",
              "    .colab-df-convert {\n",
              "      background-color: #E8F0FE;\n",
              "      border: none;\n",
              "      border-radius: 50%;\n",
              "      cursor: pointer;\n",
              "      display: none;\n",
              "      fill: #1967D2;\n",
              "      height: 32px;\n",
              "      padding: 0 0 0 0;\n",
              "      width: 32px;\n",
              "    }\n",
              "\n",
              "    .colab-df-convert:hover {\n",
              "      background-color: #E2EBFA;\n",
              "      box-shadow: 0px 1px 2px rgba(60, 64, 67, 0.3), 0px 1px 3px 1px rgba(60, 64, 67, 0.15);\n",
              "      fill: #174EA6;\n",
              "    }\n",
              "\n",
              "    [theme=dark] .colab-df-convert {\n",
              "      background-color: #3B4455;\n",
              "      fill: #D2E3FC;\n",
              "    }\n",
              "\n",
              "    [theme=dark] .colab-df-convert:hover {\n",
              "      background-color: #434B5C;\n",
              "      box-shadow: 0px 1px 3px 1px rgba(0, 0, 0, 0.15);\n",
              "      filter: drop-shadow(0px 1px 2px rgba(0, 0, 0, 0.3));\n",
              "      fill: #FFFFFF;\n",
              "    }\n",
              "  </style>\n",
              "\n",
              "      <script>\n",
              "        const buttonEl =\n",
              "          document.querySelector('#df-26ed9ff6-c82a-403e-ad7c-219572ceb316 button.colab-df-convert');\n",
              "        buttonEl.style.display =\n",
              "          google.colab.kernel.accessAllowed ? 'block' : 'none';\n",
              "\n",
              "        async function convertToInteractive(key) {\n",
              "          const element = document.querySelector('#df-26ed9ff6-c82a-403e-ad7c-219572ceb316');\n",
              "          const dataTable =\n",
              "            await google.colab.kernel.invokeFunction('convertToInteractive',\n",
              "                                                     [key], {});\n",
              "          if (!dataTable) return;\n",
              "\n",
              "          const docLinkHtml = 'Like what you see? Visit the ' +\n",
              "            '<a target=\"_blank\" href=https://colab.research.google.com/notebooks/data_table.ipynb>data table notebook</a>'\n",
              "            + ' to learn more about interactive tables.';\n",
              "          element.innerHTML = '';\n",
              "          dataTable['output_type'] = 'display_data';\n",
              "          await google.colab.output.renderOutput(dataTable, element);\n",
              "          const docLink = document.createElement('div');\n",
              "          docLink.innerHTML = docLinkHtml;\n",
              "          element.appendChild(docLink);\n",
              "        }\n",
              "      </script>\n",
              "    </div>\n",
              "  </div>\n",
              "  "
            ],
            "text/plain": [
              "                                         movie_title      director_name  \\\n",
              "0                                            avatar       James Cameron   \n",
              "1          pirates of the caribbean: at world's end      Gore Verbinski   \n",
              "2                                           spectre          Sam Mendes   \n",
              "3                             the dark knight rises   Christopher Nolan   \n",
              "4  star wars: episode vii - the force awakens    ...        Doug Walker   \n",
              "\n",
              "                            genres     actor_1_name      actor_2_name  \\\n",
              "0  Action Adventure Fantasy Sci-Fi      CCH Pounder  Joel David Moore   \n",
              "1         Action Adventure Fantasy      Johnny Depp     Orlando Bloom   \n",
              "2        Action Adventure Thriller  Christoph Waltz      Rory Kinnear   \n",
              "3                  Action Thriller        Tom Hardy    Christian Bale   \n",
              "4                      Documentary      Doug Walker        Rob Walker   \n",
              "\n",
              "           actor_3_name  \n",
              "0             Wes Studi  \n",
              "1        Jack Davenport  \n",
              "2      Stephanie Sigman  \n",
              "3  Joseph Gordon-Levitt  \n",
              "4                        "
            ]
          },
          "metadata": {},
          "execution_count": 63
        }
      ],
      "source": [
        "data.head(5)"
      ]
    },
    {
      "cell_type": "code",
      "execution_count": null,
      "metadata": {
        "colab": {
          "base_uri": "https://localhost:8080/",
          "height": 35
        },
        "id": "wwYHb4cZWJTz",
        "outputId": "28e5919b-4cc6-4ba9-e85f-2a688889f652"
      },
      "outputs": [
        {
          "output_type": "execute_result",
          "data": {
            "application/vnd.google.colaboratory.intrinsic+json": {
              "type": "string"
            },
            "text/plain": [
              "'avatar\\xa0'"
            ]
          },
          "metadata": {},
          "execution_count": 64
        }
      ],
      "source": [
        "data['movie_title'][0]"
      ]
    },
    {
      "cell_type": "code",
      "execution_count": null,
      "metadata": {
        "id": "RL22zwd4WJTz"
      },
      "outputs": [],
      "source": [
        "data['movie_title'] = data['movie_title'].apply(lambda x : x.strip())"
      ]
    },
    {
      "cell_type": "code",
      "execution_count": null,
      "metadata": {
        "colab": {
          "base_uri": "https://localhost:8080/",
          "height": 35
        },
        "id": "PSljD_WnWJTz",
        "outputId": "702b236b-d522-41aa-a56a-d851af8b47b1"
      },
      "outputs": [
        {
          "output_type": "execute_result",
          "data": {
            "application/vnd.google.colaboratory.intrinsic+json": {
              "type": "string"
            },
            "text/plain": [
              "'avatar'"
            ]
          },
          "metadata": {},
          "execution_count": 66
        }
      ],
      "source": [
        "data['movie_title'][0]"
      ]
    },
    {
      "cell_type": "code",
      "execution_count": null,
      "metadata": {
        "id": "d7qpfnnwWJT0"
      },
      "outputs": [],
      "source": [
        "data.to_csv(path_dir+'/'+'/first_data.csv', index=False)"
      ]
    }
  ],
  "metadata": {
    "interpreter": {
      "hash": "ee5cc6fef2d70a7e71ee3826687cbd150f18158e0b1eef11d4f4f92bb920e304"
    },
    "kernelspec": {
      "display_name": "Python 3.9.9 64-bit",
      "language": "python",
      "name": "python3"
    },
    "language_info": {
      "codemirror_mode": {
        "name": "ipython",
        "version": 3
      },
      "file_extension": ".py",
      "mimetype": "text/x-python",
      "name": "python",
      "nbconvert_exporter": "python",
      "pygments_lexer": "ipython3",
      "version": "3.9.9"
    },
    "orig_nbformat": 4,
    "colab": {
      "name": "preprocessing1.ipynb",
      "provenance": [],
      "include_colab_link": true
    }
  },
  "nbformat": 4,
  "nbformat_minor": 0
}